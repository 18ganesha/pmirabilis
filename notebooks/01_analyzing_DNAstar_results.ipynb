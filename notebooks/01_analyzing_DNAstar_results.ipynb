{
 "cells": [
  {
   "cell_type": "code",
   "execution_count": 1,
   "id": "dbcea47c",
   "metadata": {},
   "outputs": [],
   "source": [
    "import numpy as np\n",
    "import pandas as pd\n",
    "from Bio import SeqIO\n"
   ]
  },
  {
   "cell_type": "code",
   "execution_count": 5,
   "id": "0d55ee66",
   "metadata": {},
   "outputs": [],
   "source": [
    "gb_file = r\"C:\\Users\\jojoa\\Emory University\\EC-Phy-Kim Lab - Documents\\1 Lab Shared Documents\\SeqCenter Results\\EmmaDawson221020\\Assemblies\\AMK50-PM-WT\\AMK50-PM-WT.gbk\""
   ]
  },
  {
   "cell_type": "code",
   "execution_count": 8,
   "id": "8a49807f",
   "metadata": {},
   "outputs": [
    {
     "name": "stdout",
     "output_type": "stream",
     "text": [
      "Name 1, 3796 features\n",
      "Seq('GTGTCACTTTCGCTTTGGCAGCATTGTCTTGCCCGATTGCAGGATGAGTTACCT...GCC')\n"
     ]
    }
   ],
   "source": [
    "for gb_record in SeqIO.parse(open(gb_file,\"r\"), \"genbank\") :\n",
    "    # now do something with the record\n",
    "    print(\"Name %s, %i features\" % (gb_record.name, len(gb_record.features)))\n",
    "    print(repr(gb_record.seq))\n",
    "#there are 3795 features that SeqCenter has annotated for us where the 3796th one if the source"
   ]
  },
  {
   "cell_type": "markdown",
   "id": "fc8d40cc",
   "metadata": {},
   "source": [
    "Let's do an example with feature 26."
   ]
  },
  {
   "cell_type": "code",
   "execution_count": 27,
   "id": "0213c00c",
   "metadata": {},
   "outputs": [],
   "source": [
    "gb_feature = gb_record.features[26]"
   ]
  },
  {
   "cell_type": "code",
   "execution_count": 32,
   "id": "40841b70",
   "metadata": {},
   "outputs": [],
   "source": [
    "start=gb_feature.location.nofuzzy_start #first base pair in seq for feature\n",
    "end=gb_feature.location.nofuzzy_end #last base pair in seq for feature"
   ]
  },
  {
   "cell_type": "code",
   "execution_count": 33,
   "id": "8cd1960f",
   "metadata": {},
   "outputs": [
    {
     "data": {
      "text/plain": [
       "Seq('ATGATGTTGTTTAAAGACGATAGTAAAAAATCTTTATGGAATTTATCCATTATT...TAA')"
      ]
     },
     "execution_count": 33,
     "metadata": {},
     "output_type": "execute_result"
    }
   ],
   "source": [
    "gb_record.seq[start:end].reverse_complement()"
   ]
  },
  {
   "cell_type": "code",
   "execution_count": null,
   "id": "d677273b",
   "metadata": {},
   "outputs": [],
   "source": []
  }
 ],
 "metadata": {
  "kernelspec": {
   "display_name": "Python 3 (ipykernel)",
   "language": "python",
   "name": "python3"
  },
  "language_info": {
   "codemirror_mode": {
    "name": "ipython",
    "version": 3
   },
   "file_extension": ".py",
   "mimetype": "text/x-python",
   "name": "python",
   "nbconvert_exporter": "python",
   "pygments_lexer": "ipython3",
   "version": "3.10.10"
  }
 },
 "nbformat": 4,
 "nbformat_minor": 5
}
